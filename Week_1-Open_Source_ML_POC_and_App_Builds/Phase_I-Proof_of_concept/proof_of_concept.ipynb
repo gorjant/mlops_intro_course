{
 "cells": [
  {
   "cell_type": "markdown",
   "metadata": {},
   "source": [
    "<p align = \"center\" draggable=”false” ><img src=\"https://user-images.githubusercontent.com/37101144/161836199-fdb0219d-0361-4988-bf26-48b0fad160a3.png\"\n",
    "     width=\"200px\"\n",
    "     height=\"auto\"/>\n",
    "</p>\n",
    "\n",
    "\n",
    "\n",
    "# <h1 align=\"center\" id=\"heading\">Phase I - Proof of Concept</h1>\n",
    "\n",
    "\n",
    "\n",
    "## ☑️ Objectives\n",
    "At the end of this session, you will have a brief understanding of how to:\n",
    "- [ ] Find and run pre-trained models (Phase I)\n",
    "- [ ] Evaluate results from pre-trained models (Phase I)\n",
    "- [ ] Run a pre-trained model using real Reddit data (Phase I)\n",
    "\n",
    "\n",
    "## 🛠️ Pre-Assignment\n",
    "1. Create a virtual environment with 🐍 conda : `conda env create -f environment.yml`\n",
    "\n",
    "2. Activate your conda virtual environment: `conda activate tsla_bot`\n",
    "\n",
    "3. Create a .env file in the root directory and add the following variables:\n",
    "4. \n",
    "   `STOCK_API_KEY` : API key from [twelvedata](https://twelvedata.com/pricing)\n",
    "\n",
    "   `REDDIT_API_CLIENT_ID` : client ID of your reddit app\n",
    "   \n",
    "   `REDDIT_API_CLIENT_SECRET`: client secret of your reddit app\n",
    "   \n",
    "   Follow this tutorial to generate your own Reddit credentials:\n",
    "   <https://www.jcchouinard.com/get-reddit-api-credentials-with-praw/>\n",
    "\n",
    "4. Continue in this notebook\n",
    "\n",
    "\n",
    "\n",
    "## Background\n"
   ]
  },
  {
   "cell_type": "markdown",
   "metadata": {},
   "source": [
    "After the meeting with your boss, and reviewing your [notes](https://www.notion.so/Analyzing-Market-Sentiment-Phase-I-II-and-II-End-to-End-MLOps-with-Open-Source-Tools-dc4b846108b44f6bb2962d550368560c#54cc350bc95041ee873dabde36930af1) 📓, you're ready to get going on a Proof of Concept (POC)\n",
    "\n",
    "A POC tests the validity of your hypothesis. It's a way to prove that your idea, task, app, or whatever else works!\n",
    "\n",
    "There's no time to waste - you've got an idea - it's time to get testing it out! 🏁"
   ]
  },
  {
   "cell_type": "markdown",
   "metadata": {},
   "source": [
    "### Step 1: Initial Imports and Variable Setting 📈\n",
    "\n",
    "First things first: Let's set some variables that will help us going forward.\n",
    "\n",
    "Though your boss suggested `\"TSLA\"`, you can use any active stock-symbol and subreddit!\n",
    "\n",
    "**IMPORTANT**: Make sure you verify that your selected subreddit exists by navigating to the generated link after you run the following cell"
   ]
  },
  {
   "cell_type": "code",
   "execution_count": 1,
   "metadata": {},
   "outputs": [
    {
     "name": "stdout",
     "output_type": "stream",
     "text": [
      "reddit.com/r/TSLA\n"
     ]
    }
   ],
   "source": [
    "from datetime import datetime, timedelta\n",
    "\n",
    "### START CODE HERE\n",
    "\n",
    "# Stock data to grab ex. \"TSLA\"\n",
    "symbol = \"TSLA\"\n",
    "\n",
    "# subreddit to check\n",
    "subreddit = \"TSLA\"\n",
    "\n",
    "# Time interval granularity\n",
    "# valid choices are \"1week\", \"1month\", \"1day\"\n",
    "interval = \"1day\"\n",
    "\n",
    "# set the beginning and end of the time range you'd like to analyze\n",
    "# ensure you use the format \"YYYY-MM-DD\"\n",
    "start_date = \"2022-01-01\"\n",
    "end_date = \"2022-07-03\"\n",
    "\n",
    "### END CODE HERE\n",
    "\n",
    "start_date_dt = datetime.strptime(start_date, '%Y-%m-%d')\n",
    "end_date_dt = datetime.strptime(end_date, '%Y-%m-%d')\n",
    "\n",
    "print(f'reddit.com/r/{subreddit}')"
   ]
  },
  {
   "cell_type": "markdown",
   "metadata": {},
   "source": [
    "In order to make sure we can import our `BotUtils.py`, we have to ensure we're running from the `TSLASentimentAnalyzer` folder. To do this, we can `cd` into that directory!"
   ]
  },
  {
   "cell_type": "code",
   "execution_count": 2,
   "metadata": {},
   "outputs": [
    {
     "name": "stdout",
     "output_type": "stream",
     "text": [
      "/Users/gorjantodorovski/dev/mlops-course/Introduction-to-MLOps/Week_1-Open_Source_ML_POC_and_App_Builds/Phase_I-Proof_of_concept/TSLASentimentAnalyzer\n"
     ]
    }
   ],
   "source": [
    "cd TSLASentimentAnalyzer"
   ]
  },
  {
   "cell_type": "markdown",
   "metadata": {},
   "source": [
    "### Step 2: Set Environment Variables ⛰️\n",
    "\n",
    "Use the information you created in the instructions of the `README.md` to fill in the values below!"
   ]
  },
  {
   "cell_type": "code",
   "execution_count": 3,
   "metadata": {},
   "outputs": [],
   "source": [
    "# define env variables for configuration\n",
    "import os\n",
    "os.environ['REDDIT_API_CLIENT_ID'] = \"osORkQAgHU9Hc60Oqdb5fg\"\n",
    "os.environ['REDDIT_API_CLIENT_SECRET'] = \"f30RLtsowazrdYBDiaFYJHHX0SbFWg\"\n",
    "os.environ['STOCK_DATA_API_KEY'] = \"064766f47a74491b8f3009344bba333d\""
   ]
  },
  {
   "cell_type": "markdown",
   "metadata": {},
   "source": [
    "### Step 3: Get to Scraping 🌐\n",
    "\n",
    "Now we're going to use the `scraper` module (found in the `TSLASentimentAnalyzer` folder) to \"scrape\" the subreddit of our choosing for posts!\n",
    "\n",
    "⚗️ RESOURCES: \n",
    "\n",
    "[Web Scraping](https://www.parsehub.com/blog/what-is-web-scraping/)\n",
    "\n",
    "[Reddit Post Options](https://www.reddit.com/r/help/comments/32eu8w/what_is_the_difference_between_newrising_hot_top/)"
   ]
  },
  {
   "cell_type": "markdown",
   "metadata": {},
   "source": [
    "##### Initializing the Scraper"
   ]
  },
  {
   "cell_type": "code",
   "execution_count": 4,
   "metadata": {},
   "outputs": [],
   "source": [
    "import pandas as pd\n",
    "from loguru import logger\n",
    "from TSLASentimentAnalyzer.classifier import predict\n",
    "from TSLASentimentAnalyzer.scraper import RedditScraper\n",
    "from TSLASentimentAnalyzer.config import settings\n",
    "\n",
    "# instantiating the reddit scraper\n",
    "reddit = RedditScraper(subreddit)"
   ]
  },
  {
   "cell_type": "markdown",
   "metadata": {},
   "source": [
    "##### Helper Functions 🔨\n",
    "\n",
    "Here are some helper functions to assist in collecting data!"
   ]
  },
  {
   "cell_type": "code",
   "execution_count": 8,
   "metadata": {},
   "outputs": [],
   "source": [
    "from collections.abc import Callable\n",
    "\n",
    "def load_comments(number: int, scraping_option: Callable) -> pd.DataFrame:\n",
    "    '''\n",
    "    loads comments from reddit using the RedditScraper using one of the options\n",
    "    and returns a DataFrame\n",
    "\n",
    "    Parameters\n",
    "    ----------\n",
    "    number : int\n",
    "        number of posts to load comments from\n",
    "\n",
    "    scraping_options: callable\n",
    "        expects a select_scrap_type function\n",
    "    '''\n",
    "    comments = []\n",
    "    for submission in scraping_option(number):\n",
    "        comments.extend(reddit.get_comment_forest(submission.comments))\n",
    "        logger.debug(\n",
    "            submission.title,\n",
    "            submission.num_comments,\n",
    "            len(reddit.get_comment_forest(submission.comments)),\n",
    "        )\n",
    "    df = pd.DataFrame(comments)\n",
    "    return df\n",
    "\n",
    "\n",
    "def select_scrap_type(option: str) -> Callable:\n",
    "    '''\n",
    "    selects a method from the reddit object based on a given option\n",
    "    '''\n",
    "    if option == \"Hot\":\n",
    "        return reddit.get_hot\n",
    "        \n",
    "    if option == \"Rising\":\n",
    "        return reddit.get_rising\n",
    "\n",
    "    if option == \"New\":\n",
    "        return reddit.get_new"
   ]
  },
  {
   "cell_type": "markdown",
   "metadata": {},
   "source": [
    "##### Loading & Processing the Reddit Comment Data\n",
    "\n",
    "Let's scrape the 15 🔥 hottest 🔥 posts from your selected subreddit using the `load_data()` helper function!"
   ]
  },
  {
   "cell_type": "code",
   "execution_count": 9,
   "metadata": {},
   "outputs": [
    {
     "name": "stderr",
     "output_type": "stream",
     "text": [
      "2022-07-09 10:14:46.481 | DEBUG    | TSLASentimentAnalyzer.scraper:get_comment_forest:41 - <praw.models.comment_forest.CommentForest object at 0x29b468160>\n",
      "2022-07-09 10:14:46.482 | DEBUG    | TSLASentimentAnalyzer.scraper:get_comment_forest:41 - <praw.models.comment_forest.CommentForest object at 0x29b468160>\n",
      "2022-07-09 10:14:46.483 | DEBUG    | __main__:load_comments:19 - Musk backs out of Twitter deal. Why no action in this sub of 13000 people?\n",
      "2022-07-09 10:14:54.835 | DEBUG    | TSLASentimentAnalyzer.scraper:get_comment_forest:41 - <praw.models.comment_forest.CommentForest object at 0x29b431be0>\n",
      "2022-07-09 10:14:54.836 | DEBUG    | TSLASentimentAnalyzer.scraper:get_comment_forest:41 - <praw.models.comment_forest.CommentForest object at 0x29b431be0>\n",
      "2022-07-09 10:14:54.836 | DEBUG    | __main__:load_comments:19 - Is Tesla the most important stock in the market?\n",
      "2022-07-09 10:14:59.578 | DEBUG    | TSLASentimentAnalyzer.scraper:get_comment_forest:41 - <praw.models.comment_forest.CommentForest object at 0x29b384d30>\n",
      "2022-07-09 10:14:59.579 | DEBUG    | TSLASentimentAnalyzer.scraper:get_comment_forest:41 - <praw.models.comment_forest.CommentForest object at 0x29b384d30>\n",
      "2022-07-09 10:14:59.580 | DEBUG    | __main__:load_comments:19 - TSLA Sentiment Up on Musk Children and Twitter News\n",
      "2022-07-09 10:15:02.454 | DEBUG    | TSLASentimentAnalyzer.scraper:get_comment_forest:41 - <praw.models.comment_forest.CommentForest object at 0x29b44a700>\n",
      "2022-07-09 10:15:02.455 | DEBUG    | TSLASentimentAnalyzer.scraper:get_comment_forest:41 - <praw.models.comment_forest.CommentForest object at 0x29b44a700>\n",
      "2022-07-09 10:15:02.456 | DEBUG    | __main__:load_comments:19 - Tesla is still the world's largest electric car producer despite what you are hearing\n",
      "2022-07-09 10:15:04.211 | DEBUG    | TSLASentimentAnalyzer.scraper:get_comment_forest:41 - <praw.models.comment_forest.CommentForest object at 0x112635220>\n",
      "2022-07-09 10:15:04.212 | DEBUG    | TSLASentimentAnalyzer.scraper:get_comment_forest:41 - <praw.models.comment_forest.CommentForest object at 0x112635220>\n",
      "2022-07-09 10:15:04.213 | DEBUG    | __main__:load_comments:19 - Tesla sold 78,000 China-made vehicles in June, up 142% vs May -CPCA estimates\n",
      "2022-07-09 10:15:05.485 | DEBUG    | TSLASentimentAnalyzer.scraper:get_comment_forest:41 - <praw.models.comment_forest.CommentForest object at 0x29b6285b0>\n",
      "2022-07-09 10:15:05.485 | DEBUG    | TSLASentimentAnalyzer.scraper:get_comment_forest:41 - <praw.models.comment_forest.CommentForest object at 0x29b6285b0>\n",
      "2022-07-09 10:15:05.486 | DEBUG    | __main__:load_comments:19 - Giga Berlin Planned 2 week upgrade for site ramp in production\n",
      "2022-07-09 10:15:06.734 | DEBUG    | TSLASentimentAnalyzer.scraper:get_comment_forest:41 - <praw.models.comment_forest.CommentForest object at 0x29b564af0>\n",
      "2022-07-09 10:15:06.734 | DEBUG    | TSLASentimentAnalyzer.scraper:get_comment_forest:41 - <praw.models.comment_forest.CommentForest object at 0x29b564af0>\n",
      "2022-07-09 10:15:06.735 | DEBUG    | __main__:load_comments:19 - tsla is very good👍🏻\n",
      "2022-07-09 10:15:07.961 | DEBUG    | TSLASentimentAnalyzer.scraper:get_comment_forest:41 - <praw.models.comment_forest.CommentForest object at 0x29b431a90>\n",
      "2022-07-09 10:15:07.962 | DEBUG    | TSLASentimentAnalyzer.scraper:get_comment_forest:41 - <praw.models.comment_forest.CommentForest object at 0x29b431a90>\n",
      "2022-07-09 10:15:07.963 | DEBUG    | __main__:load_comments:19 - Charging problems\n",
      "2022-07-09 10:15:09.257 | DEBUG    | TSLASentimentAnalyzer.scraper:get_comment_forest:41 - <praw.models.comment_forest.CommentForest object at 0x29b4bf610>\n",
      "2022-07-09 10:15:09.258 | DEBUG    | TSLASentimentAnalyzer.scraper:get_comment_forest:41 - <praw.models.comment_forest.CommentForest object at 0x29b4bf610>\n",
      "2022-07-09 10:15:09.259 | DEBUG    | __main__:load_comments:19 - Musk forced to halt Tesla assembly line in struggling Berlin plant for 2 weeks over production problems\n",
      "2022-07-09 10:15:10.139 | DEBUG    | TSLASentimentAnalyzer.scraper:get_comment_forest:41 - <praw.models.comment_forest.CommentForest object at 0x29b42a970>\n",
      "2022-07-09 10:15:10.140 | DEBUG    | TSLASentimentAnalyzer.scraper:get_comment_forest:41 - <praw.models.comment_forest.CommentForest object at 0x29b42a970>\n",
      "2022-07-09 10:15:10.140 | DEBUG    | __main__:load_comments:19 - Tesla insurance\n",
      "2022-07-09 10:15:11.465 | DEBUG    | TSLASentimentAnalyzer.scraper:get_comment_forest:41 - <praw.models.comment_forest.CommentForest object at 0x29b42ac70>\n",
      "2022-07-09 10:15:11.466 | DEBUG    | TSLASentimentAnalyzer.scraper:get_comment_forest:41 - <praw.models.comment_forest.CommentForest object at 0x29b42ac70>\n",
      "2022-07-09 10:15:11.467 | DEBUG    | __main__:load_comments:19 - Tesla Market share of EV's likely to fall soon from 70% to 11%\n",
      "2022-07-09 10:15:12.284 | DEBUG    | TSLASentimentAnalyzer.scraper:get_comment_forest:41 - <praw.models.comment_forest.CommentForest object at 0x29b492f10>\n",
      "2022-07-09 10:15:12.284 | DEBUG    | TSLASentimentAnalyzer.scraper:get_comment_forest:41 - <praw.models.comment_forest.CommentForest object at 0x29b492f10>\n",
      "2022-07-09 10:15:12.285 | DEBUG    | __main__:load_comments:19 - 258,000 deliveries, slight above target despite supply chain issues!\n",
      "2022-07-09 10:15:13.045 | DEBUG    | TSLASentimentAnalyzer.scraper:get_comment_forest:41 - <praw.models.comment_forest.CommentForest object at 0x29b699fa0>\n",
      "2022-07-09 10:15:13.045 | DEBUG    | TSLASentimentAnalyzer.scraper:get_comment_forest:41 - <praw.models.comment_forest.CommentForest object at 0x29b699fa0>\n",
      "2022-07-09 10:15:13.046 | DEBUG    | __main__:load_comments:19 - Tesla's 2Q sales drop amid supply chain, pandemic problems\n",
      "2022-07-09 10:15:14.337 | DEBUG    | TSLASentimentAnalyzer.scraper:get_comment_forest:41 - <praw.models.comment_forest.CommentForest object at 0x29c7f5a60>\n",
      "2022-07-09 10:15:14.338 | DEBUG    | TSLASentimentAnalyzer.scraper:get_comment_forest:41 - <praw.models.comment_forest.CommentForest object at 0x29c7f5a60>\n",
      "2022-07-09 10:15:14.339 | DEBUG    | __main__:load_comments:19 - Options\n",
      "2022-07-09 10:15:15.129 | DEBUG    | TSLASentimentAnalyzer.scraper:get_comment_forest:41 - <praw.models.comment_forest.CommentForest object at 0x29c7f59d0>\n",
      "2022-07-09 10:15:15.130 | DEBUG    | TSLASentimentAnalyzer.scraper:get_comment_forest:41 - <praw.models.comment_forest.CommentForest object at 0x29c7f59d0>\n",
      "2022-07-09 10:15:15.131 | DEBUG    | __main__:load_comments:19 - Everyone the decline in the price of TSLA is entirely my fault, sorry.\n"
     ]
    }
   ],
   "source": [
    "# Scraping data from reddit\n",
    "dfReddit = load_comments(15,select_scrap_type(\"Hot\"))"
   ]
  },
  {
   "cell_type": "markdown",
   "metadata": {},
   "source": [
    "Once we have our comments, let's use the [`pandas.Series.str.slice()`](https://pandas.pydata.org/docs/reference/api/pandas.Series.str.slice.html) method to ensure our data will play nicely with our model. (`bert` only supports up to a maximum of 512 tokens, so a range of `0` to `512` seems appropriate)"
   ]
  },
  {
   "cell_type": "code",
   "execution_count": 10,
   "metadata": {},
   "outputs": [],
   "source": [
    "# slice comments as bert supports only 512 tokens\n",
    "import re\n",
    "\n",
    "def trunc_words(s):\n",
    "    word_list = re.findall(r'\\w+', s)[:512]\n",
    "    return \" \".join(word_list)\n",
    "\n",
    "dfReddit['comment'] = dfReddit[\"comment\"].apply(trunc_words)"
   ]
  },
  {
   "cell_type": "markdown",
   "metadata": {},
   "source": [
    "### Step 5: Analyze the Comments! 🔍\n"
   ]
  },
  {
   "cell_type": "markdown",
   "metadata": {},
   "source": [
    "We'll be using the `FourthBrain/bert_model_reddit_tsla` model (found [here](https://huggingface.co/FourthBrain/bert_model_reddit_tsla)), which is based off of the `distilbert-base-uncased` (found [here](https://huggingface.co/distilbert-base-uncased))\n",
    "\n",
    "We'll use this model in a `sentiment-analysis` pipeline! (read all about that [here](https://huggingface.co/docs/transformers/main_classes/pipelines#transformers.pipeline.example))"
   ]
  },
  {
   "cell_type": "code",
   "execution_count": 11,
   "metadata": {},
   "outputs": [
    {
     "data": {
      "application/vnd.jupyter.widget-view+json": {
       "model_id": "c2d38b4f5cf64a7db105778a11e551da",
       "version_major": 2,
       "version_minor": 0
      },
      "text/plain": [
       "Downloading:   0%|          | 0.00/483 [00:00<?, ?B/s]"
      ]
     },
     "metadata": {},
     "output_type": "display_data"
    },
    {
     "data": {
      "application/vnd.jupyter.widget-view+json": {
       "model_id": "648bd817f12f4882a032809dea8a6321",
       "version_major": 2,
       "version_minor": 0
      },
      "text/plain": [
       "Downloading:   0%|          | 0.00/256M [00:00<?, ?B/s]"
      ]
     },
     "metadata": {},
     "output_type": "display_data"
    },
    {
     "name": "stderr",
     "output_type": "stream",
     "text": [
      "Some weights of the model checkpoint at distilbert-base-uncased were not used when initializing DistilBertForSequenceClassification: ['vocab_transform.weight', 'vocab_layer_norm.weight', 'vocab_projector.weight', 'vocab_transform.bias', 'vocab_layer_norm.bias', 'vocab_projector.bias']\n",
      "- This IS expected if you are initializing DistilBertForSequenceClassification from the checkpoint of a model trained on another task or with another architecture (e.g. initializing a BertForSequenceClassification model from a BertForPreTraining model).\n",
      "- This IS NOT expected if you are initializing DistilBertForSequenceClassification from the checkpoint of a model that you expect to be exactly identical (initializing a BertForSequenceClassification model from a BertForSequenceClassification model).\n",
      "Some weights of DistilBertForSequenceClassification were not initialized from the model checkpoint at distilbert-base-uncased and are newly initialized: ['classifier.weight', 'pre_classifier.weight', 'classifier.bias', 'pre_classifier.bias']\n",
      "You should probably TRAIN this model on a down-stream task to be able to use it for predictions and inference.\n"
     ]
    },
    {
     "data": {
      "application/vnd.jupyter.widget-view+json": {
       "model_id": "14febb963a3b43c391025c8d6eeecabe",
       "version_major": 2,
       "version_minor": 0
      },
      "text/plain": [
       "Downloading:   0%|          | 0.00/28.0 [00:00<?, ?B/s]"
      ]
     },
     "metadata": {},
     "output_type": "display_data"
    },
    {
     "data": {
      "application/vnd.jupyter.widget-view+json": {
       "model_id": "90967e0b586445d6b073b0082c2aa1de",
       "version_major": 2,
       "version_minor": 0
      },
      "text/plain": [
       "Downloading:   0%|          | 0.00/226k [00:00<?, ?B/s]"
      ]
     },
     "metadata": {},
     "output_type": "display_data"
    },
    {
     "data": {
      "application/vnd.jupyter.widget-view+json": {
       "model_id": "89ed9e53786d4994a92fab49b308f71a",
       "version_major": 2,
       "version_minor": 0
      },
      "text/plain": [
       "Downloading:   0%|          | 0.00/455k [00:00<?, ?B/s]"
      ]
     },
     "metadata": {},
     "output_type": "display_data"
    }
   ],
   "source": [
    "from transformers import pipeline\n",
    "\n",
    "\n",
    "# initialize the sentiment pipeline\n",
    "sentiment_pipeline = pipeline(\"sentiment-analysis\", model=\"distilbert-base-uncased\")\n",
    "\n",
    "reddit_json = sentiment_pipeline(dfReddit[\"comment\"].tolist())\n",
    "\n",
    "# Retrieve labels and scores\n",
    "dfReddit['label'] = [reddit_json[i]['label'] for i in range(0, len(reddit_json))]\n",
    "dfReddit['score'] = [reddit_json[i]['score'] for i in range(0, len(reddit_json))]\n"
   ]
  },
  {
   "cell_type": "markdown",
   "metadata": {},
   "source": [
    "Next up, we'll want to perform the following steps\n",
    "\n",
    "1. Convert the `created_at` column to the appropriate format and name it `'timestamp'`\n",
    "2. Normalize the dates using the `NormalizeDates()` helper function"
   ]
  },
  {
   "cell_type": "code",
   "execution_count": 12,
   "metadata": {},
   "outputs": [],
   "source": [
    "import numpy as np\n",
    "from BotUtils import NormalizeDates\n",
    "\n",
    "# Rename timestamp column \n",
    "dfReddit = dfReddit.rename(columns={'created_at': 'timestamp'})\n",
    "dfReddit['timestamp'] = [datetime.fromtimestamp(dt) for dt in dfReddit['timestamp'] ]\n",
    "\n",
    "# Normalize Reddit sentiment data\n",
    "dfReddit = NormalizeDates(dfReddit, timestamp_col=\"timestamp\", interval=interval)\n",
    "\n",
    "# Create a continous time series \n",
    "dfTimeSeries = pd.DataFrame(dfReddit[\"timestamp\"])"
   ]
  },
  {
   "cell_type": "markdown",
   "metadata": {},
   "source": [
    "### Step 6: Get Stock Data 🚀\n",
    "\n",
    "Next up, we're going to get the stock data and create a DataFrame - as well as normalize the dates, just like we did with the subreddit comment timestamps"
   ]
  },
  {
   "cell_type": "code",
   "execution_count": 13,
   "metadata": {},
   "outputs": [],
   "source": [
    "from BotUtils import GetStockData\n",
    "\n",
    "# Get Stock Data\n",
    "j, dfStockData = GetStockData(settings.stock_data_api_key, symbol=symbol, start_date=start_date, end_date=end_date, interval='1day')\n",
    "dfStockData = dfStockData[(dfStockData['timestamp'] >= start_date) & (dfStockData['timestamp'] <= end_date)]\n",
    "\n",
    "# Normalize stock price data\n",
    "dfStockData = NormalizeDates(dfStockData, timestamp_col=\"timestamp\", interval=interval)"
   ]
  },
  {
   "cell_type": "markdown",
   "metadata": {},
   "source": [
    "### Step 7: Merge Sentiment and Stock Data 🧬\n",
    "\n",
    "We've got some processing to do! "
   ]
  },
  {
   "cell_type": "code",
   "execution_count": 14,
   "metadata": {},
   "outputs": [],
   "source": [
    "# Join time series df with stock price df and reddit df\n",
    "dfSentiment = dfTimeSeries.merge(dfStockData, how='left', on=\"timestamp\")\n",
    "dfSentiment = dfSentiment.merge(dfReddit, how='left', on=\"timestamp\")\n",
    "\n",
    "# Filter down to only the columns that we'll be using \n",
    "dfSentiment = dfSentiment[['timestamp', 'close', 'volume', 'label', 'score']]\n",
    "\n",
    "# Clean up NaNs for closing price, score, and labels\n",
    "dfSentiment['close'] = dfSentiment['close'].fillna(0)\n",
    "dfSentiment['score'] = dfSentiment['score'].fillna(0)\n",
    "dfSentiment['label'] = dfSentiment['label'].fillna('NEUTRAL')\n",
    "dfSentiment['label'] = ['NEGATIVE' for s in dfSentiment['label'] == 'LABEL_0']\n",
    "dfSentiment['label'] = ['POSITIVE' for s in dfSentiment['label'] == 'LABEL_1']\n",
    "\n",
    "# Convert close from string to float\n",
    "dfSentiment['close'] = dfSentiment['close'].astype('float')\n",
    "\n",
    "# Calculate weighted sentiment\n",
    "dfSentiment['sentiment'] = [1 if sentiment == \"POSITIVE\"  else 0 if sentiment == \"NEUTRAL\" else -1 for sentiment in dfSentiment['label'].tolist() ]\n",
    "dfSentiment['weighted_sentiment'] = dfSentiment['sentiment'] * dfSentiment['score']\n",
    "\n",
    "# Count only the POSITIVE and NEGATIVE labels (NEUTRAL is just a filler for missing dates)\n",
    "dfSentiment['counter'] = [1 if sentiment == \"POSITIVE\"  else 1 if sentiment == \"NEGATIVE\" else 0 for sentiment in dfSentiment['label'].tolist() ]\n",
    "\n",
    "# Group by to calculate Reddit post count and sentiment score (mean of weighted sentiment)\n",
    "dfSentiment = dfSentiment.groupby('timestamp') \\\n",
    "       .agg({'counter':'sum', 'close':'max', 'volume':max, 'weighted_sentiment':'mean'}) \\\n",
    "       .rename(columns={'sentiment':'count_posts', 'weighted_sentiment':'sentiment_score'}) \\\n",
    "       .reset_index()\n"
   ]
  },
  {
   "cell_type": "code",
   "execution_count": 15,
   "metadata": {},
   "outputs": [
    {
     "data": {
      "text/html": [
       "<div>\n",
       "<style scoped>\n",
       "    .dataframe tbody tr th:only-of-type {\n",
       "        vertical-align: middle;\n",
       "    }\n",
       "\n",
       "    .dataframe tbody tr th {\n",
       "        vertical-align: top;\n",
       "    }\n",
       "\n",
       "    .dataframe thead th {\n",
       "        text-align: right;\n",
       "    }\n",
       "</style>\n",
       "<table border=\"1\" class=\"dataframe\">\n",
       "  <thead>\n",
       "    <tr style=\"text-align: right;\">\n",
       "      <th></th>\n",
       "      <th>timestamp</th>\n",
       "      <th>counter</th>\n",
       "      <th>close</th>\n",
       "      <th>volume</th>\n",
       "      <th>sentiment_score</th>\n",
       "    </tr>\n",
       "  </thead>\n",
       "  <tbody>\n",
       "    <tr>\n",
       "      <th>0</th>\n",
       "      <td>2022-06-30</td>\n",
       "      <td>16</td>\n",
       "      <td>673.41998</td>\n",
       "      <td>31533500</td>\n",
       "      <td>0.532476</td>\n",
       "    </tr>\n",
       "    <tr>\n",
       "      <th>1</th>\n",
       "      <td>2022-07-01</td>\n",
       "      <td>121</td>\n",
       "      <td>681.78998</td>\n",
       "      <td>24781500</td>\n",
       "      <td>0.534863</td>\n",
       "    </tr>\n",
       "    <tr>\n",
       "      <th>2</th>\n",
       "      <td>2022-07-02</td>\n",
       "      <td>121</td>\n",
       "      <td>0.00000</td>\n",
       "      <td>NaN</td>\n",
       "      <td>0.542500</td>\n",
       "    </tr>\n",
       "    <tr>\n",
       "      <th>3</th>\n",
       "      <td>2022-07-03</td>\n",
       "      <td>400</td>\n",
       "      <td>0.00000</td>\n",
       "      <td>NaN</td>\n",
       "      <td>0.537007</td>\n",
       "    </tr>\n",
       "    <tr>\n",
       "      <th>4</th>\n",
       "      <td>2022-07-04</td>\n",
       "      <td>1089</td>\n",
       "      <td>0.00000</td>\n",
       "      <td>NaN</td>\n",
       "      <td>0.538999</td>\n",
       "    </tr>\n",
       "    <tr>\n",
       "      <th>5</th>\n",
       "      <td>2022-07-05</td>\n",
       "      <td>16</td>\n",
       "      <td>0.00000</td>\n",
       "      <td>NaN</td>\n",
       "      <td>0.541718</td>\n",
       "    </tr>\n",
       "    <tr>\n",
       "      <th>6</th>\n",
       "      <td>2022-07-06</td>\n",
       "      <td>36</td>\n",
       "      <td>0.00000</td>\n",
       "      <td>NaN</td>\n",
       "      <td>0.535976</td>\n",
       "    </tr>\n",
       "    <tr>\n",
       "      <th>7</th>\n",
       "      <td>2022-07-07</td>\n",
       "      <td>225</td>\n",
       "      <td>0.00000</td>\n",
       "      <td>NaN</td>\n",
       "      <td>0.540394</td>\n",
       "    </tr>\n",
       "    <tr>\n",
       "      <th>8</th>\n",
       "      <td>2022-07-08</td>\n",
       "      <td>9</td>\n",
       "      <td>0.00000</td>\n",
       "      <td>NaN</td>\n",
       "      <td>0.538354</td>\n",
       "    </tr>\n",
       "    <tr>\n",
       "      <th>9</th>\n",
       "      <td>2022-07-09</td>\n",
       "      <td>225</td>\n",
       "      <td>0.00000</td>\n",
       "      <td>NaN</td>\n",
       "      <td>0.542325</td>\n",
       "    </tr>\n",
       "  </tbody>\n",
       "</table>\n",
       "</div>"
      ],
      "text/plain": [
       "   timestamp  counter      close    volume  sentiment_score\n",
       "0 2022-06-30       16  673.41998  31533500         0.532476\n",
       "1 2022-07-01      121  681.78998  24781500         0.534863\n",
       "2 2022-07-02      121    0.00000       NaN         0.542500\n",
       "3 2022-07-03      400    0.00000       NaN         0.537007\n",
       "4 2022-07-04     1089    0.00000       NaN         0.538999\n",
       "5 2022-07-05       16    0.00000       NaN         0.541718\n",
       "6 2022-07-06       36    0.00000       NaN         0.535976\n",
       "7 2022-07-07      225    0.00000       NaN         0.540394\n",
       "8 2022-07-08        9    0.00000       NaN         0.538354\n",
       "9 2022-07-09      225    0.00000       NaN         0.542325"
      ]
     },
     "execution_count": 15,
     "metadata": {},
     "output_type": "execute_result"
    }
   ],
   "source": [
    "dfSentiment"
   ]
  },
  {
   "cell_type": "markdown",
   "metadata": {},
   "source": [
    "### Step 8: Final Computation 🖥️\n",
    "\n",
    "In this last step, we're going to finish up some calculations:\n",
    "\n",
    "1. Create the lags and percentage change for the closing stock price. \n",
    "2. Calculate the 3 month rolling average."
   ]
  },
  {
   "cell_type": "code",
   "execution_count": 16,
   "metadata": {},
   "outputs": [
    {
     "data": {
      "text/html": [
       "<div>\n",
       "<style scoped>\n",
       "    .dataframe tbody tr th:only-of-type {\n",
       "        vertical-align: middle;\n",
       "    }\n",
       "\n",
       "    .dataframe tbody tr th {\n",
       "        vertical-align: top;\n",
       "    }\n",
       "\n",
       "    .dataframe thead th {\n",
       "        text-align: right;\n",
       "    }\n",
       "</style>\n",
       "<table border=\"1\" class=\"dataframe\">\n",
       "  <thead>\n",
       "    <tr style=\"text-align: right;\">\n",
       "      <th></th>\n",
       "      <th>timestamp</th>\n",
       "      <th>counter</th>\n",
       "      <th>close</th>\n",
       "      <th>volume</th>\n",
       "      <th>sentiment_score</th>\n",
       "      <th>close_lag1</th>\n",
       "      <th>perc_change_close</th>\n",
       "      <th>sentiment_score_lag1</th>\n",
       "      <th>perc_change_sentiment</th>\n",
       "      <th>sentiment_SMA3mo</th>\n",
       "    </tr>\n",
       "  </thead>\n",
       "  <tbody>\n",
       "    <tr>\n",
       "      <th>1</th>\n",
       "      <td>2022-07-01</td>\n",
       "      <td>121</td>\n",
       "      <td>681.78998</td>\n",
       "      <td>24781500</td>\n",
       "      <td>0.534863</td>\n",
       "      <td>673.41998</td>\n",
       "      <td>0.012429</td>\n",
       "      <td>0.532476</td>\n",
       "      <td>0.004482</td>\n",
       "      <td>0.000000</td>\n",
       "    </tr>\n",
       "    <tr>\n",
       "      <th>2</th>\n",
       "      <td>2022-07-02</td>\n",
       "      <td>121</td>\n",
       "      <td>0.00000</td>\n",
       "      <td>NaN</td>\n",
       "      <td>0.542500</td>\n",
       "      <td>681.78998</td>\n",
       "      <td>-1.000000</td>\n",
       "      <td>0.534863</td>\n",
       "      <td>0.014279</td>\n",
       "      <td>0.536613</td>\n",
       "    </tr>\n",
       "    <tr>\n",
       "      <th>3</th>\n",
       "      <td>2022-07-03</td>\n",
       "      <td>400</td>\n",
       "      <td>0.00000</td>\n",
       "      <td>NaN</td>\n",
       "      <td>0.537007</td>\n",
       "      <td>0.00000</td>\n",
       "      <td>0.000000</td>\n",
       "      <td>0.542500</td>\n",
       "      <td>-0.010126</td>\n",
       "      <td>0.538123</td>\n",
       "    </tr>\n",
       "    <tr>\n",
       "      <th>4</th>\n",
       "      <td>2022-07-04</td>\n",
       "      <td>1089</td>\n",
       "      <td>0.00000</td>\n",
       "      <td>NaN</td>\n",
       "      <td>0.538999</td>\n",
       "      <td>0.00000</td>\n",
       "      <td>0.000000</td>\n",
       "      <td>0.537007</td>\n",
       "      <td>0.003711</td>\n",
       "      <td>0.539502</td>\n",
       "    </tr>\n",
       "    <tr>\n",
       "      <th>5</th>\n",
       "      <td>2022-07-05</td>\n",
       "      <td>16</td>\n",
       "      <td>0.00000</td>\n",
       "      <td>NaN</td>\n",
       "      <td>0.541718</td>\n",
       "      <td>0.00000</td>\n",
       "      <td>0.000000</td>\n",
       "      <td>0.538999</td>\n",
       "      <td>0.005045</td>\n",
       "      <td>0.539241</td>\n",
       "    </tr>\n",
       "    <tr>\n",
       "      <th>6</th>\n",
       "      <td>2022-07-06</td>\n",
       "      <td>36</td>\n",
       "      <td>0.00000</td>\n",
       "      <td>NaN</td>\n",
       "      <td>0.535976</td>\n",
       "      <td>0.00000</td>\n",
       "      <td>0.000000</td>\n",
       "      <td>0.541718</td>\n",
       "      <td>-0.010599</td>\n",
       "      <td>0.538898</td>\n",
       "    </tr>\n",
       "    <tr>\n",
       "      <th>7</th>\n",
       "      <td>2022-07-07</td>\n",
       "      <td>225</td>\n",
       "      <td>0.00000</td>\n",
       "      <td>NaN</td>\n",
       "      <td>0.540394</td>\n",
       "      <td>0.00000</td>\n",
       "      <td>0.000000</td>\n",
       "      <td>0.535976</td>\n",
       "      <td>0.008243</td>\n",
       "      <td>0.539363</td>\n",
       "    </tr>\n",
       "    <tr>\n",
       "      <th>8</th>\n",
       "      <td>2022-07-08</td>\n",
       "      <td>9</td>\n",
       "      <td>0.00000</td>\n",
       "      <td>NaN</td>\n",
       "      <td>0.538354</td>\n",
       "      <td>0.00000</td>\n",
       "      <td>0.000000</td>\n",
       "      <td>0.540394</td>\n",
       "      <td>-0.003775</td>\n",
       "      <td>0.538242</td>\n",
       "    </tr>\n",
       "    <tr>\n",
       "      <th>9</th>\n",
       "      <td>2022-07-09</td>\n",
       "      <td>225</td>\n",
       "      <td>0.00000</td>\n",
       "      <td>NaN</td>\n",
       "      <td>0.542325</td>\n",
       "      <td>0.00000</td>\n",
       "      <td>0.000000</td>\n",
       "      <td>0.538354</td>\n",
       "      <td>0.007375</td>\n",
       "      <td>0.540358</td>\n",
       "    </tr>\n",
       "  </tbody>\n",
       "</table>\n",
       "</div>"
      ],
      "text/plain": [
       "   timestamp  counter      close    volume  sentiment_score  close_lag1  \\\n",
       "1 2022-07-01      121  681.78998  24781500         0.534863   673.41998   \n",
       "2 2022-07-02      121    0.00000       NaN         0.542500   681.78998   \n",
       "3 2022-07-03      400    0.00000       NaN         0.537007     0.00000   \n",
       "4 2022-07-04     1089    0.00000       NaN         0.538999     0.00000   \n",
       "5 2022-07-05       16    0.00000       NaN         0.541718     0.00000   \n",
       "6 2022-07-06       36    0.00000       NaN         0.535976     0.00000   \n",
       "7 2022-07-07      225    0.00000       NaN         0.540394     0.00000   \n",
       "8 2022-07-08        9    0.00000       NaN         0.538354     0.00000   \n",
       "9 2022-07-09      225    0.00000       NaN         0.542325     0.00000   \n",
       "\n",
       "   perc_change_close  sentiment_score_lag1  perc_change_sentiment  \\\n",
       "1           0.012429              0.532476               0.004482   \n",
       "2          -1.000000              0.534863               0.014279   \n",
       "3           0.000000              0.542500              -0.010126   \n",
       "4           0.000000              0.537007               0.003711   \n",
       "5           0.000000              0.538999               0.005045   \n",
       "6           0.000000              0.541718              -0.010599   \n",
       "7           0.000000              0.535976               0.008243   \n",
       "8           0.000000              0.540394              -0.003775   \n",
       "9           0.000000              0.538354               0.007375   \n",
       "\n",
       "   sentiment_SMA3mo  \n",
       "1          0.000000  \n",
       "2          0.536613  \n",
       "3          0.538123  \n",
       "4          0.539502  \n",
       "5          0.539241  \n",
       "6          0.538898  \n",
       "7          0.539363  \n",
       "8          0.538242  \n",
       "9          0.540358  "
      ]
     },
     "execution_count": 16,
     "metadata": {},
     "output_type": "execute_result"
    }
   ],
   "source": [
    "# Create lags and %change for closing stock price\n",
    "dfSentiment['close_lag1'] = dfSentiment['close'].shift(1)\n",
    "dfSentiment['close_lag1'] = dfSentiment['close_lag1'].fillna(0)\n",
    "dfSentiment['perc_change_close'] = (dfSentiment['close'] - dfSentiment['close_lag1']) / dfSentiment['close_lag1']\n",
    "dfSentiment['perc_change_close'] = dfSentiment['perc_change_close'].fillna(0)\n",
    "\n",
    "dfSentiment['sentiment_score_lag1'] = dfSentiment['sentiment_score'].shift(1)\n",
    "dfSentiment['sentiment_score_lag1'] = dfSentiment['sentiment_score_lag1'].fillna(0)\n",
    "dfSentiment['perc_change_sentiment'] = (dfSentiment['sentiment_score'] - dfSentiment['sentiment_score_lag1']) / dfSentiment['sentiment_score_lag1']\n",
    "\n",
    "# Calculate 3 month rolling average\n",
    "dfSentiment['sentiment_SMA3mo'] = dfSentiment.sentiment_score.rolling(3).mean()\n",
    "dfSentiment['sentiment_SMA3mo'] = dfSentiment['sentiment_SMA3mo'].fillna(0)\n",
    "\n",
    "dfSentiment = dfSentiment[1:]\n",
    "dfSentiment"
   ]
  },
  {
   "cell_type": "markdown",
   "metadata": {},
   "source": [
    "Let's save our work in a `.csv` for use later in the Streamlit app!"
   ]
  },
  {
   "cell_type": "code",
   "execution_count": 17,
   "metadata": {},
   "outputs": [],
   "source": [
    "# Save DataFrame locally (or somewhere else) for use in Streamlit app\n",
    "dfSentiment.to_csv('./sentiment_data.csv')"
   ]
  },
  {
   "cell_type": "markdown",
   "metadata": {},
   "source": [
    "### Step 8a: Plotting our Results! 📊\n",
    "\n",
    "Now, after all that, let's plot our results and see how they shape up!"
   ]
  },
  {
   "cell_type": "code",
   "execution_count": 18,
   "metadata": {},
   "outputs": [
    {
     "data": {
      "image/png": "[encoded data removed]",
      "text/plain": [
       "<Figure size 432x288 with 2 Axes>"
      ]
     },
     "metadata": {
      "needs_background": "light"
     },
     "output_type": "display_data"
    }
   ],
   "source": [
    "import matplotlib.pyplot as plt\n",
    "\n",
    "ax1 = dfSentiment.plot(kind = 'line', x = 'timestamp',\n",
    "                  y = 'sentiment_score', color = 'Red',\n",
    "                  linewidth = 3)\n",
    "\n",
    "ax2 = dfSentiment.plot(kind = 'line', x = 'timestamp',\n",
    "                   y = 'close', secondary_y = True,\n",
    "                   color = 'Blue',  linewidth = 3,\n",
    "                   ax = ax1) \n",
    "\n",
    "#labeling x and y-axis\n",
    "ax1.set_xlabel('Timestamp', color = 'black')\n",
    "ax1.set_ylabel('Sentiment Score', color = \"r\")\n",
    "ax2.set_ylabel('% Change Stock Price', color = 'b')\n",
    " \n",
    "#defining display layout\n",
    "plt.tight_layout()\n",
    " \n",
    "#show plot\n",
    "plt.show()"
   ]
  },
  {
   "cell_type": "code",
   "execution_count": null,
   "metadata": {},
   "outputs": [],
   "source": []
  }
 ],
 "metadata": {
  "kernelspec": {
   "display_name": "Python 3.9.13 ('tsla_bot')",
   "language": "python",
   "name": "python3"
  },
  "language_info": {
   "codemirror_mode": {
    "name": "ipython",
    "version": 3
   },
   "file_extension": ".py",
   "mimetype": "text/x-python",
   "name": "python",
   "nbconvert_exporter": "python",
   "pygments_lexer": "ipython3",
   "version": "3.9.13"
  },
  "vscode": {
   "interpreter": {
    "hash": "ea40b91d1c3816adb8c2386eceb8d8189232df5a05a87f0ac29a01d8ef580cdb"
   }
  }
 },
 "nbformat": 4,
 "nbformat_minor": 2
}
